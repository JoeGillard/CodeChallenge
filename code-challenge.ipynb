{
 "cells": [
  {
   "cell_type": "markdown",
   "id": "29acb687-4b2f-48af-af71-1de5a5a67c7e",
   "metadata": {},
   "source": [
    "# Code challenge: self-supervised learning and embeddings generation\n",
    "To address this challenge, we will follow the SimCLR approach of Chen et al. (2020)...\n",
    "\n",
    "## Import libraries and modules:"
   ]
  },
  {
   "cell_type": "code",
   "execution_count": 275,
   "id": "c4a1379d-bee8-4058-8920-ee495c453bf7",
   "metadata": {},
   "outputs": [],
   "source": [
    "import math\n",
    "import numpy as np\n",
    "import matplotlib.pyplot as plt\n",
    "import torch # load pytorch for machine learning\n",
    "import torch.nn as nn # load module for neural networks\n",
    "import torchvision.transforms as tvtran # load module for transformations to transform / augment data \n",
    "import torchvision.datasets as tvdat # load module for handling datasets\n",
    "from torchvision.models import resnet18, ResNet18_Weights # pre-trained encoder\n",
    "import torch.nn.functional as F # for cross-entropy loss\n",
    "from sklearn.manifold import TSNE # for dimension reduction\n",
    "from sklearn.metrics import accuracy_score\n",
    "from sklearn.metrics import confusion_matrix"
   ]
  },
  {
   "cell_type": "markdown",
   "id": "27680151-1946-4adc-885e-a6263b17f78e",
   "metadata": {},
   "source": [
    "## Dataset loading\n",
    "We begin by loading the dataset of pet images from the root folder:"
   ]
  },
  {
   "cell_type": "code",
   "execution_count": 182,
   "id": "8e9e878a-cc5f-41ea-9abd-4966867753a1",
   "metadata": {},
   "outputs": [],
   "source": [
    "x_raw = tvdat.ImageFolder('../CodeChallenge/data/', transform=None) "
   ]
  },
  {
   "cell_type": "markdown",
   "id": "c3b05404-162f-47a6-811b-84a6245d88e0",
   "metadata": {},
   "source": [
    "## Splitting the dataset\n",
    "For this task, we will pre-train a model using SimCLR, then fine-tune the model, and then evulate its performance. To do this, we split the dataset into three partitions, in the proportions 80% pre-training, 10% fine-tuning, and 10% evaluation:"
   ]
  },
  {
   "cell_type": "code",
   "execution_count": 208,
   "id": "ed396aa0-1f28-4910-a921-c3a4cdb0830b",
   "metadata": {},
   "outputs": [],
   "source": [
    "pretrain_size = int(0.8*len(x_raw)) # 80% of data used for pre-training\n",
    "\n",
    "remainder_size = len(x_raw) - pretrain_size # data not used in pre-training\n",
    "\n",
    "x_train, x_remainder = torch.utils.data.random_split(x_raw, [pretrain_size, remainder_size]) # generate training set and remaining 20%\n",
    "\n",
    "fine_tune_size = int(0.5*len(x_remainder)) # half of the remaining 20% of data will be used for fine-tuning. i.e. 10%\n",
    "\n",
    "eval_size = len(x_remainder) - fine_tune_size # 10% for \n",
    "\n",
    "# split again\n",
    "x_fine_tune, x_eval = torch.utils.data.random_split(x_remainder, [fine_tune_size, eval_size]) # fine-tuning and evaluation datasets"
   ]
  },
  {
   "cell_type": "markdown",
   "id": "88d64ea1-12c3-4948-926a-643738c4eab8",
   "metadata": {},
   "source": [
    "## Dataset augmentation\n",
    "Next we specify a set of transformations to aid contrastive learning, based on recommendations in the SimCLR paper [Chen et al. (2020)](https://arxiv.org/pdf/2002.05709):"
   ]
  },
  {
   "cell_type": "code",
   "execution_count": 209,
   "id": "b1b5a24f-0f18-4729-9e68-8e1795dd1ef1",
   "metadata": {},
   "outputs": [],
   "source": [
    "transforms = tvtran.Compose([\n",
    "    # spatial transformations\n",
    "    tvtran.RandomResizedCrop(size=224), # random crop, resized to 224x224\n",
    "    tvtran.RandomHorizontalFlip(p=0.5), # flip horizontally 50% of the time\n",
    "    # colour distortion\n",
    "    tvtran.ColorJitter(brightness=0.5, contrast=0.5, saturation=0.5, hue=0.2), # illustrative parameters\n",
    "    tvtran.RandomGrayscale(p=0.2), # convert to greyscale with probability 20%\n",
    "    tvtran.GaussianBlur(kernel_size=3, sigma=(0.1, 2.0)), # illustrative parameters\n",
    "    # convert to tensor\n",
    "    tvtran.ToTensor()\n",
    "])"
   ]
  },
  {
   "cell_type": "markdown",
   "id": "63584d23-7a7e-48c8-80f5-a132bda75660",
   "metadata": {},
   "source": [
    "The SimCLR approach requires two augmented versions of each image. Define a class for generating a customised dataset, using the base class `torch.utils.data.Dataset`:"
   ]
  },
  {
   "cell_type": "code",
   "execution_count": 210,
   "id": "845f4c6d-2ee2-4398-b05f-ef1327331ca9",
   "metadata": {},
   "outputs": [],
   "source": [
    "class SimCLR_custom_dat(torch.utils.data.Dataset):\n",
    "    def __init__(self, raw_dataset, transform):\n",
    "        self.raw_dataset = raw_dataset\n",
    "        self.transform = transform\n",
    "    def __len__(self):\n",
    "        return len(self.raw_dataset)\n",
    "    def __getitem__(self, idx):\n",
    "        img, label = self.raw_dataset[idx] # image and label from ImageFolder dataset\n",
    "        # apply two stochastic augmentations to the same image\n",
    "        x1 = self.transform(img)\n",
    "        x2 = self.transform(img)\n",
    "        return x1, x2, label"
   ]
  },
  {
   "cell_type": "markdown",
   "id": "3e24ea60-bc3d-48eb-9086-749062c4ded6",
   "metadata": {},
   "source": [
    "Now, we can generate our customised dataset of augmented (and challenging) images, to use in contrastive learning:"
   ]
  },
  {
   "cell_type": "code",
   "execution_count": 211,
   "id": "abd466bc-9d1a-49e2-9944-ce7d70cf896e",
   "metadata": {},
   "outputs": [],
   "source": [
    "x_simclr = SimCLR_custom_dat(x_train, transforms)"
   ]
  },
  {
   "cell_type": "markdown",
   "id": "6df41c0e-7468-4560-85d8-ed6aab110572",
   "metadata": {},
   "source": [
    "## Data loader\n",
    "Create a data loader for inputting images into the model:"
   ]
  },
  {
   "cell_type": "code",
   "execution_count": 212,
   "id": "91cf5eef-2a79-46f0-93fc-4c124a4add24",
   "metadata": {},
   "outputs": [],
   "source": [
    "batch_size = 24 # this is arbitrary; may be tweaked later\n",
    "\n",
    "train_loader = torch.utils.data.DataLoader(x_simclr, batch_size=batch_size, shuffle=True, drop_last=True) # drop_last=True drops incomplete batches"
   ]
  },
  {
   "cell_type": "markdown",
   "id": "8019d3ce-b4d9-4470-b399-9bb42abe0427",
   "metadata": {},
   "source": [
    "## Base encoder\n",
    "The framework specified in Chen et al. (2020) consists of a base encoder framework to create representations of the positive pairs (denoted `f` in the paper, see Fig. 2) and a projection head (denoted `g`). \n",
    "\n",
    "For the base encoder, we will use ResNet18 together with a set of pre-trained weights. This model is selected as a relatively small network, to show proof-of-concept without requiring large compute resources. "
   ]
  },
  {
   "cell_type": "code",
   "execution_count": 196,
   "id": "d66c7c58-1cb8-4fa8-a9ef-8f96b99fde72",
   "metadata": {},
   "outputs": [],
   "source": [
    "f = resnet18(weights=ResNet18_Weights.IMAGENET1K_V1) # load ResNet18 as the base encoder, together with pre-trained weights"
   ]
  },
  {
   "cell_type": "markdown",
   "id": "3095ca97-c4f0-46de-8009-5329f92e574a",
   "metadata": {},
   "source": [
    "ResNet18 has 1000 classes of animals in its output layer, but we are interested in just 3 classes (chinchilla, rabbit, hamster). Therefore, we truncate the base model to remove the final layer. The output of this truncated model will be that of the penultimate layer (average pooling), a 512-dimensional feature vector for each image: "
   ]
  },
  {
   "cell_type": "code",
   "execution_count": 197,
   "id": "34afeaac-b297-4490-ad73-4215b71b0959",
   "metadata": {},
   "outputs": [],
   "source": [
    "f_trunc = nn.Sequential(*list(f.children())[:-1]) # remove final classification layer"
   ]
  },
  {
   "cell_type": "markdown",
   "id": "2a69e921-9965-4c93-b7d4-267506974191",
   "metadata": {},
   "source": [
    "## Projection head\n",
    "The projection head `g` is a small neural network that maps the representations generated by `f_trunc` to the space where contrastive lost is applied. \n",
    "\n",
    "Following Chen et al. (2020), we define `g` to be a multi-layer perceptron with one hidden layer, and an output of dimension 128: "
   ]
  },
  {
   "cell_type": "code",
   "execution_count": 233,
   "id": "55d33e38-6497-4d38-965a-7291be55f899",
   "metadata": {},
   "outputs": [],
   "source": [
    "g = nn.Sequential(\n",
    "    nn.Linear(512, 512), # hidden layer\n",
    "    nn.ReLU(), # activation function\n",
    "    nn.Linear(512, 128) # output layer; follow Chen et al. (2020) in using 128-dim output\n",
    ")"
   ]
  },
  {
   "cell_type": "markdown",
   "id": "92c71ff9-7095-4aee-b378-4fb7f95f6599",
   "metadata": {},
   "source": [
    "## Combined model\n",
    "Next, we use the pytorch base class `torch.nn.Module` to define our custom neural network architecture, which will combine the encoder `f_trunc` with the projection head `g`:"
   ]
  },
  {
   "cell_type": "code",
   "execution_count": 234,
   "id": "896cb6cc-2cba-4b7e-a8ce-c38df51629f7",
   "metadata": {},
   "outputs": [],
   "source": [
    "class CustomModel(nn.Module):\n",
    "    def __init__(self, ff, gg):\n",
    "        super(CustomModel, self).__init__()\n",
    "        self.encoder = ff\n",
    "        self.projection_head = gg\n",
    "    def forward(self, x):\n",
    "        h = self.encoder(x) # representation of x generated by f_trunc; shape: [batch, 512, 1, 1] for ResNet18\n",
    "        h = h.view(h.size(0), -1) # flatten to shape: [batch, 512]\n",
    "        z = self.projection_head(h) # apply projection head\n",
    "        return z"
   ]
  },
  {
   "cell_type": "markdown",
   "id": "c4e200bb-9958-4748-8ced-c4a4ec422177",
   "metadata": {},
   "source": [
    "Create an instance of our model:"
   ]
  },
  {
   "cell_type": "code",
   "execution_count": 235,
   "id": "511f2aff-81e5-4835-8a36-4b8c082fbc71",
   "metadata": {},
   "outputs": [],
   "source": [
    "model = CustomModel(f_trunc, g)"
   ]
  },
  {
   "cell_type": "markdown",
   "id": "84e165f9-de3e-4c75-8897-db9889298ea6",
   "metadata": {},
   "source": [
    "## Pre-training parameters\n",
    "Here, we specify the device on which the training will occur (CPU will be used here for demonstration), and also the optimizer to be used in training:"
   ]
  },
  {
   "cell_type": "code",
   "execution_count": 236,
   "id": "6de77b5e-8c8d-4dec-b1d6-841ad4c21ccf",
   "metadata": {},
   "outputs": [],
   "source": [
    "# move model to CPU\n",
    "device = torch.device('cpu')\n",
    "\n",
    "model = model.to(device)\n",
    "\n",
    "# optimizer\n",
    "optimizer = torch.optim.Adam(model.parameters(), lr=1e-4) # use Adam optimizer with low learning rate (lr)"
   ]
  },
  {
   "cell_type": "markdown",
   "id": "b0b8ea7b-aa03-4775-ae13-abf8040ecd41",
   "metadata": {},
   "source": [
    "## Self-supervised pre-training using SimCLR\n",
    "Now, we are ready to pre-train the model using the training dataset:"
   ]
  },
  {
   "cell_type": "code",
   "execution_count": 244,
   "id": "6de02f54-3c5f-4ca3-8855-484e331a2f10",
   "metadata": {},
   "outputs": [
    {
     "name": "stdout",
     "output_type": "stream",
     "text": [
      "Epoch [1/3], NT-Xent Loss: 2.9171\n",
      "Epoch [2/3], NT-Xent Loss: 2.8960\n",
      "Epoch [3/3], NT-Xent Loss: 2.7886\n"
     ]
    }
   ],
   "source": [
    "epochs = 20\n",
    "temperature = 0.5\n",
    "\n",
    "for epoch in range(epochs):\n",
    "    model.train()\n",
    "    total_loss = 0.0\n",
    "    for (x1, x2, _) in train_loader: # feed in the pairs of images; ignore the labels\n",
    "        x1, x2 = x1.to(device), x2.to(device) # send to device\n",
    "        optimizer.zero_grad() # initialise optimizer\n",
    "\n",
    "        z1 = model(x1)   # projection of first representation; shape: [batch, 128]\n",
    "        z2 = model(x2)   # projection of second representation; shape: [batch, 128]\n",
    "\n",
    "        # normalize the projections for cosine similarity\n",
    "        z1 = nn.functional.normalize(z1, dim=1)\n",
    "        z2 = nn.functional.normalize(z2, dim=1)\n",
    "        \n",
    "        # concatenate projections along batch dimension\n",
    "        z = torch.cat([z1, z2], dim=0)  # shape: [2*batch, 128]\n",
    "        N = z1.size(0) # original batch size\n",
    "\n",
    "        # compute cosine similarity matrix (2N x 2N)\n",
    "        sim_matrix = torch.matmul(z, z.T)  # dot products between all z vectors\n",
    "        \n",
    "        # create labels for positive pairs\n",
    "        pos_index = list(range(N, 2*N)) + list(range(0, N))\n",
    "        pos_index = torch.tensor(pos_index).to(device)\n",
    "        \n",
    "        # compute exponential of similarity divided by temperature\n",
    "        sim_matrix /= temperature\n",
    "        exp_sim = torch.exp(sim_matrix)\n",
    "\n",
    "        # compute loss for each image\n",
    "        # TRY USING: sklearn.metrics.pairwise.cosine_similarity(X, Y=None, dense_output=True) ???\n",
    "        mask = ~torch.eye(2*N, device=device).bool()  # mask to exclude self-similarity\n",
    "        exp_sim_masked = exp_sim * mask               # zero out self-sim terms\n",
    "        # Numerator for all 2N anchors:\n",
    "        numerators = exp_sim[torch.arange(2*N, device=device), pos_index]\n",
    "        # Denominator for all anchors (sum over j != i):\n",
    "        denominators = exp_sim_masked.sum(dim=1)\n",
    "        # Compute loss for all 2N augmented images\n",
    "        losses = -torch.log(numerators / denominators)\n",
    "        loss = losses.mean()\n",
    "\n",
    "        loss.backward()\n",
    "        optimizer.step()\n",
    "        total_loss += loss.item()\n",
    "    avg_loss = total_loss / len(train_loader)\n",
    "    print(f\"Epoch [{epoch+1}/{epochs}], NT-Xent Loss: {avg_loss:.4f}\")\n"
   ]
  },
  {
   "cell_type": "markdown",
   "id": "c614a680-aafe-495b-ba69-6066e5f62884",
   "metadata": {},
   "source": [
    "## Fine-tuning the model"
   ]
  },
  {
   "cell_type": "code",
   "execution_count": 245,
   "id": "1bbc48d2-2123-46d6-9d33-8bf17ace8bc6",
   "metadata": {},
   "outputs": [],
   "source": [
    "model_ft = model # create a copy of the pre-trained model for fine-tuning"
   ]
  },
  {
   "cell_type": "code",
   "execution_count": 246,
   "id": "cbf3d2cd-ba66-499a-9bbe-ffbfe80f754f",
   "metadata": {},
   "outputs": [],
   "source": [
    "# we unfreeze the network parameters for fine-tuning\n",
    "for param in model_ft.parameters():\n",
    "    param.requires_grad = True"
   ]
  },
  {
   "cell_type": "markdown",
   "id": "c621904e-c9c4-4f1a-b5ac-8a3656a26521",
   "metadata": {},
   "source": [
    "Next, we add a linear classifier head to the pre-trained model, to provide the final classification of images into the three classes: "
   ]
  },
  {
   "cell_type": "code",
   "execution_count": 247,
   "id": "f9d9f88d-c84f-469c-be9b-54d90ce98315",
   "metadata": {},
   "outputs": [],
   "source": [
    "class FineTuneModel(nn.Module):\n",
    "    def __init__(self, ff, n_classes):\n",
    "        super().__init__()\n",
    "        self.encoder = ff\n",
    "        self.fc = nn.Linear(128, n_classes)  \n",
    "\n",
    "    def forward(self, x):\n",
    "        x = self.encoder(x)\n",
    "        x = self.fc(x)\n",
    "        return x\n",
    "\n",
    "# create model for fine-tuning\n",
    "model_ft = FineTuneModel(model, n_classes=3) # 3 output classes"
   ]
  },
  {
   "cell_type": "markdown",
   "id": "861e91ae-d587-423a-a384-5171910da36f",
   "metadata": {},
   "source": [
    "Now, we need to transform the fine-tuning dataset, using random cropping to 224x224 and converting to tensors (N.B. we are not applying the colour distortions here):"
   ]
  },
  {
   "cell_type": "code",
   "execution_count": 248,
   "id": "c600ed6d-44ea-430b-a917-dd397023bb07",
   "metadata": {},
   "outputs": [],
   "source": [
    "transforms_simple = tvtran.Compose([\n",
    "    # spatial transformations\n",
    "    tvtran.RandomResizedCrop(size=224), # random crop, resized to 224x224\n",
    "    tvtran.ToTensor() # convert to tensor\n",
    "])\n",
    "\n",
    "# create a custom dataset for this data\n",
    "class ft_custom_dat(torch.utils.data.Dataset):\n",
    "    def __init__(self, dataset, transform):\n",
    "        self.dataset = dataset\n",
    "        self.transform = transform\n",
    "    def __len__(self):\n",
    "        return len(self.dataset)\n",
    "    def __getitem__(self, idx):\n",
    "        img, label = self.dataset[idx] # image and label from ImageFolder dataset\n",
    "        x = self.transform(img)\n",
    "        return x, label\n",
    "\n",
    "# create the dataset\n",
    "x_ft_tran = ft_custom_dat(x_fine_tune, transforms_simple)"
   ]
  },
  {
   "cell_type": "markdown",
   "id": "dafbaca1-9450-40e6-bdb1-921fc07ac924",
   "metadata": {},
   "source": [
    "Fine-tune train the model using the 10% data held back for fine-tuning:"
   ]
  },
  {
   "cell_type": "code",
   "execution_count": 249,
   "id": "0e2b5f15-3036-4f93-8cf0-1ff7f356b5e5",
   "metadata": {},
   "outputs": [],
   "source": [
    "# create a data loader for the fine-tuning data\n",
    "batch_size_ft = 4 # this is arbitrary; may be tweaked later\n",
    "\n",
    "ft_loader = torch.utils.data.DataLoader(x_ft_tran, batch_size=batch_size_ft, shuffle=True, drop_last=True) # drop_last=True drops incomplete batches\n",
    "\n",
    "# optimizer for the fine-tuning step\n",
    "optimizer_ft = torch.optim.Adam(model.parameters(), lr=1e-4) # Adam optimizer with learning rate 1e-4\n",
    "\n",
    "# number of epochs for fine-tuning\n",
    "epochs_ft = 10"
   ]
  },
  {
   "cell_type": "code",
   "execution_count": 253,
   "id": "a929d7c7-f351-482c-81a9-259ed2b63220",
   "metadata": {},
   "outputs": [
    {
     "name": "stdout",
     "output_type": "stream",
     "text": [
      "Epoch [1/3]\n",
      "Epoch [2/3]\n",
      "Epoch [3/3]\n",
      "Epoch [4/3]\n",
      "Epoch [5/3]\n",
      "Epoch [6/3]\n",
      "Epoch [7/3]\n",
      "Epoch [8/3]\n",
      "Epoch [9/3]\n",
      "Epoch [10/3]\n"
     ]
    }
   ],
   "source": [
    "# switch the model to train mode\n",
    "model_ft.train()\n",
    "\n",
    "# training loop\n",
    "for epoch in range(epochs_ft):\n",
    "#    for images, labels in labeled_loader:\n",
    "    for xft, label in ft_loader: \n",
    "        xft = xft.to(device) # send to device\n",
    "        optimizer_ft.zero_grad() # initialise optimizer\n",
    "\n",
    "        output = model_ft(xft)\n",
    "        loss = F.cross_entropy(output, label)\n",
    "\n",
    "        optimizer.zero_grad()\n",
    "        loss.backward()\n",
    "        optimizer.step()\n",
    "    print(f\"Epoch [{epoch+1}/{epochs_ft}]\")"
   ]
  },
  {
   "cell_type": "markdown",
   "id": "01a47657-1421-4115-be42-1570b4263676",
   "metadata": {},
   "source": [
    "## Evaluating performance"
   ]
  },
  {
   "cell_type": "code",
   "execution_count": 254,
   "id": "07316e5a-4fdc-41b0-9711-d5251bc6abce",
   "metadata": {},
   "outputs": [],
   "source": [
    "# create dataset using same transformations as fine-tune set\n",
    "x_eval = ft_custom_dat(x_eval, transforms_simple)"
   ]
  },
  {
   "cell_type": "code",
   "execution_count": 273,
   "id": "ad046d3e-eded-4b05-9b59-77011ff9b37e",
   "metadata": {},
   "outputs": [],
   "source": [
    "# switch model to evaluation mode\n",
    "model_ft.eval()\n",
    "\n",
    "# get all image features and labels\n",
    "all_features = []\n",
    "all_labels = []\n",
    "outputs = []\n",
    "actual = []\n",
    "predicted = []\n",
    "with torch.no_grad():\n",
    "    for x, label in x_eval:  # iterate through each original image (ignore x2 here, we just need one view per image)\n",
    "        img = x.unsqueeze(0).to(device)    # take one augmented view (or we could disable augmentation and take original image)\n",
    "        h = model_ft.encoder(img)             # get 512-d feature from encoder\n",
    "        h = h.view(h.size(0), -1).cpu().numpy()\n",
    "        res = model_ft(img)\n",
    "        outputs.append(res)\n",
    "        actual.append(label)\n",
    "        predicted.append(torch.argmax(res, dim=1).item())\n",
    "        all_features.append(h)\n",
    "        all_labels.append(label)\n",
    "all_features = np.vstack(all_features)      # shape [num_images, 512]\n",
    "all_labels = np.array(all_labels)\n",
    "\n",
    "# use t-SNE to reduce to 2 dimensions\n",
    "tsne = TSNE(n_components=2, init='pca', perplexity=20, random_state=42)\n",
    "features_2d = tsne.fit_transform(all_features)  # shape [num_images, 2]"
   ]
  },
  {
   "cell_type": "code",
   "execution_count": 276,
   "id": "59a3e2dd-885e-4df5-8b1b-1c073c558ab6",
   "metadata": {},
   "outputs": [
    {
     "name": "stdout",
     "output_type": "stream",
     "text": [
      "Accuracy: 58.33%\n",
      "[[ 2  1  1]\n",
      " [ 0  1  4]\n",
      " [ 4  0 11]]\n"
     ]
    }
   ],
   "source": [
    "accuracy = accuracy_score(actual, predicted)\n",
    "print(f\"Accuracy: {accuracy:.2%}\")\n",
    "\n",
    "cm = confusion_matrix(actual, predicted)\n",
    "print(cm)"
   ]
  },
  {
   "cell_type": "markdown",
   "id": "59007e9c-2c75-45ff-9ea2-4429f2248bce",
   "metadata": {},
   "source": [
    "Plot the 2D feature representations of the evaluation images: "
   ]
  },
  {
   "cell_type": "code",
   "execution_count": 277,
   "id": "d74eac33-4172-4a25-a515-b81c87a2e2ab",
   "metadata": {},
   "outputs": [
    {
     "data": {
      "image/png": "[encoded data removed]",
      "text/plain": [
       "<Figure size 600x500 with 1 Axes>"
      ]
     },
     "metadata": {},
     "output_type": "display_data"
    }
   ],
   "source": [
    "# Plot the 2D features with matplotlib\n",
    "plt.figure(figsize=(6,5))\n",
    "# We assume dataset.class_to_idx gives mapping like {'rabbits':0, 'hamsters':1, 'chinchillas':2}\n",
    "classes = x_raw.classes  # list of class names in order\n",
    "for class_idx, class_name in enumerate(classes):\n",
    "    pts = features_2d[all_labels == class_idx]\n",
    "    plt.scatter(pts[:,0], pts[:,1], label=class_name, alpha=0.7)\n",
    "plt.legend()\n",
    "plt.title(\"2D t-SNE of Learned Feature Space\")\n",
    "plt.xlabel(\"t-SNE Dimension 1\")\n",
    "plt.ylabel(\"t-SNE Dimension 2\")\n",
    "plt.tight_layout()\n",
    "plt.savefig(\"feature_space_clusters.png\")\n",
    "plt.show()"
   ]
  }
 ],
 "metadata": {
  "kernelspec": {
   "display_name": "Python 3 (ipykernel)",
   "language": "python",
   "name": "python3"
  },
  "language_info": {
   "codemirror_mode": {
    "name": "ipython",
    "version": 3
   },
   "file_extension": ".py",
   "mimetype": "text/x-python",
   "name": "python",
   "nbconvert_exporter": "python",
   "pygments_lexer": "ipython3",
   "version": "3.10.16"
  }
 },
 "nbformat": 4,
 "nbformat_minor": 5
}
