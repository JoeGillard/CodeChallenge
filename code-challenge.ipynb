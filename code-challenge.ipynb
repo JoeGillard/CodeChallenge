{
 "cells": [
  {
   "cell_type": "markdown",
   "id": "29acb687-4b2f-48af-af71-1de5a5a67c7e",
   "metadata": {},
   "source": [
    "# Code challenge: self-supervised learning and embeddings generation\n",
    "To address this challenge, we will follow the SimCLR approach of Chen et al. (2020)...\n",
    "\n",
    "## Import libraries and modules:"
   ]
  },
  {
   "cell_type": "code",
   "execution_count": 139,
   "id": "c4a1379d-bee8-4058-8920-ee495c453bf7",
   "metadata": {},
   "outputs": [],
   "source": [
    "import math\n",
    "import torch # load pytorch for machine learning\n",
    "import torch.nn as nn # load module for neural networks\n",
    "import torchvision.transforms as tvtran # load module for transformations to transform / augment data \n",
    "import torchvision.datasets as tvdat # load module for handling datasets\n",
    "import torchvision.models as tvmod\n",
    "from torchvision.models import resnet18, ResNet18_Weights\n",
    "from simclr import SimCLR"
   ]
  },
  {
   "cell_type": "markdown",
   "id": "27680151-1946-4adc-885e-a6263b17f78e",
   "metadata": {},
   "source": [
    "## Dataset loading\n",
    "We begin by loading the dataset of pet images from the root folder:"
   ]
  },
  {
   "cell_type": "code",
   "execution_count": 114,
   "id": "8e9e878a-cc5f-41ea-9abd-4966867753a1",
   "metadata": {},
   "outputs": [],
   "source": [
    "x_raw = tvdat.ImageFolder('../CodeChallenge/data/', transform=None) "
   ]
  },
  {
   "cell_type": "markdown",
   "id": "88d64ea1-12c3-4948-926a-643738c4eab8",
   "metadata": {},
   "source": [
    "## Dataset augmentation\n",
    "Next we specify a set of transformations to aid contrastive learning, based on recommendations in the SimCLR paper [Chen et al. (2020)](https://arxiv.org/pdf/2002.05709):"
   ]
  },
  {
   "cell_type": "code",
   "execution_count": 115,
   "id": "b1b5a24f-0f18-4729-9e68-8e1795dd1ef1",
   "metadata": {},
   "outputs": [],
   "source": [
    "transforms = tvtran.Compose([\n",
    "    # spatial transformations\n",
    "    tvtran.RandomResizedCrop(size=224), # random crop, resized to 224x224\n",
    "    tvtran.RandomHorizontalFlip(p=0.5), # flip horizontally 50% of the time\n",
    "    # colour distortion\n",
    "    tvtran.ColorJitter(brightness=0.5, contrast=0.5, saturation=0.5, hue=0.2), # illustrative parameters\n",
    "    tvtran.RandomGrayscale(p=0.2), # convert to greyscale with probability 20%\n",
    "    tvtran.GaussianBlur(kernel_size=3, sigma=(0.1, 2.0)), # illustrative parameters\n",
    "    # convert to tensor\n",
    "    tvtran.ToTensor()\n",
    "])"
   ]
  },
  {
   "cell_type": "markdown",
   "id": "63584d23-7a7e-48c8-80f5-a132bda75660",
   "metadata": {},
   "source": [
    "The SimCLR approach requires two augmented versions of each image. Define a class for generating a customised dataset, using the base class `torch.utils.data.Dataset`:"
   ]
  },
  {
   "cell_type": "code",
   "execution_count": 118,
   "id": "845f4c6d-2ee2-4398-b05f-ef1327331ca9",
   "metadata": {},
   "outputs": [],
   "source": [
    "class SimCLR_custom_dat(torch.utils.data.Dataset):\n",
    "    def __init__(self, raw_dataset, transform):\n",
    "        self.raw_dataset = raw_dataset\n",
    "        self.transform = transform\n",
    "    def __len__(self):\n",
    "        return len(self.raw_dataset)\n",
    "    def __getitem__(self, idx):\n",
    "        img, label = self.raw_dataset[idx] # image and label from ImageFolder dataset\n",
    "        # apply two stochastic augmentations to the same image\n",
    "        x1 = self.transform(img)\n",
    "        x2 = self.transform(img)\n",
    "        return x1, x2, label"
   ]
  },
  {
   "cell_type": "markdown",
   "id": "3e24ea60-bc3d-48eb-9086-749062c4ded6",
   "metadata": {},
   "source": [
    "Now, we can generate our customised dataset of augmented (and challenging) images, providing positive pairs for contrastive learning:"
   ]
  },
  {
   "cell_type": "code",
   "execution_count": 119,
   "id": "abd466bc-9d1a-49e2-9944-ce7d70cf896e",
   "metadata": {},
   "outputs": [],
   "source": [
    "x_simclr = SimCLR_custom_dat(x_raw, transforms)"
   ]
  },
  {
   "cell_type": "markdown",
   "id": "6df41c0e-7468-4560-85d8-ed6aab110572",
   "metadata": {},
   "source": [
    "## Data loader\n",
    "Create a data loader for inputting images into the model:"
   ]
  },
  {
   "cell_type": "code",
   "execution_count": 138,
   "id": "91cf5eef-2a79-46f0-93fc-4c124a4add24",
   "metadata": {},
   "outputs": [],
   "source": [
    "batch_size = 32 # this is arbitrary; may be tweaked later\n",
    "\n",
    "train_loader = torch.utils.data.DataLoader(x_simclr, batch_size=batch_size, shuffle=True, drop_last=True) # drop_last=True drops incomplete batches"
   ]
  },
  {
   "cell_type": "markdown",
   "id": "8019d3ce-b4d9-4470-b399-9bb42abe0427",
   "metadata": {},
   "source": [
    "## Base encoder\n",
    "The framework specified in Chen et al. (2020) consists of a base encoder framework to create representations of the positive pairs (denoted `f` in the paper, see Fig. 2) and a projection head (denoted `g`). \n",
    "\n",
    "For the base encoder, we will use ResNet18 together with a set of pre-trained weights. This model is selected as a relatively small network, to show proof-of-concept without requiring large compute resources. "
   ]
  },
  {
   "cell_type": "code",
   "execution_count": 126,
   "id": "d66c7c58-1cb8-4fa8-a9ef-8f96b99fde72",
   "metadata": {},
   "outputs": [],
   "source": [
    "f = resnet18(weights=ResNet18_Weights.IMAGENET1K_V1) # load ResNet18 as the base encoder, together with pre-trained weights"
   ]
  },
  {
   "cell_type": "markdown",
   "id": "3095ca97-c4f0-46de-8009-5329f92e574a",
   "metadata": {},
   "source": [
    "ResNet18 has 1000 classes of animals in its output layer, but we are interested in just 3 classes (chinchilla, rabbit, hamster). Therefore, we truncate the base model to remove the final layer. The output of this truncated model will be that of the penultimate layer (average pooling), a 512-dimensional feature vector for each image: "
   ]
  },
  {
   "cell_type": "code",
   "execution_count": 127,
   "id": "34afeaac-b297-4490-ad73-4215b71b0959",
   "metadata": {},
   "outputs": [],
   "source": [
    "f_trunc = nn.Sequential(*list(f.children())[:-1]) # remove final classification layer"
   ]
  },
  {
   "cell_type": "markdown",
   "id": "2a69e921-9965-4c93-b7d4-267506974191",
   "metadata": {},
   "source": [
    "## Projection head\n",
    "The projection head `g` is a small neural network that maps the representations generated by `f_trunc` to the space where contrastive lost is applied. \n",
    "\n",
    "Following Chen et al. (2020), we define `g` to be a multi-layer perceptron with one hidden layer. "
   ]
  },
  {
   "cell_type": "code",
   "execution_count": 174,
   "id": "55d33e38-6497-4d38-965a-7291be55f899",
   "metadata": {},
   "outputs": [],
   "source": [
    "g = nn.Sequential(\n",
    "    nn.Linear(512, 512), # hidden layer\n",
    "    nn.ReLU(), # activation function\n",
    "    nn.Linear(512, 3) # output layer; leads to three classes\n",
    ")"
   ]
  },
  {
   "cell_type": "markdown",
   "id": "92c71ff9-7095-4aee-b378-4fb7f95f6599",
   "metadata": {},
   "source": [
    "## Combined model\n",
    "Next, we use the pytorch base class `torch.nn.Module` to define our custom neural network architecture, which will combine the encoder `f_trunc` with the projection head `g`:"
   ]
  },
  {
   "cell_type": "code",
   "execution_count": 175,
   "id": "896cb6cc-2cba-4b7e-a8ce-c38df51629f7",
   "metadata": {},
   "outputs": [],
   "source": [
    "class CustomModel(nn.Module):\n",
    "    def __init__(self, ff, gg):\n",
    "        super(CustomModel, self).__init__()\n",
    "        self.encoder = ff\n",
    "        self.projection_head = gg\n",
    "    def forward(self, x):\n",
    "        h = self.encoder(x) # representation of x generated by f_trunc; shape: [batch, 512, 1, 1] for ResNet18\n",
    "        h = h.view(h.size(0), -1) # flatten to shape: [batch, 512]\n",
    "        z = self.projection_head(h) # apply projection head\n",
    "        return z"
   ]
  },
  {
   "cell_type": "markdown",
   "id": "c4e200bb-9958-4748-8ced-c4a4ec422177",
   "metadata": {},
   "source": [
    "Create an instance of our model:"
   ]
  },
  {
   "cell_type": "code",
   "execution_count": 176,
   "id": "511f2aff-81e5-4835-8a36-4b8c082fbc71",
   "metadata": {},
   "outputs": [],
   "source": [
    "model = CustomModel(f_trunc, g)"
   ]
  },
  {
   "cell_type": "markdown",
   "id": "84e165f9-de3e-4c75-8897-db9889298ea6",
   "metadata": {},
   "source": [
    "## Training parameters\n",
    "Here, we specify the device on which the training will occur (CPU will be used here for demonstration), and also the optimizer to be used in training:"
   ]
  },
  {
   "cell_type": "code",
   "execution_count": 177,
   "id": "6de77b5e-8c8d-4dec-b1d6-841ad4c21ccf",
   "metadata": {},
   "outputs": [],
   "source": [
    "# move model to CPU\n",
    "device = torch.device('cpu')\n",
    "\n",
    "model = model.to(device)\n",
    "\n",
    "# optimizer\n",
    "optimizer = torch.optim.Adam(model.parameters(), lr=1e-4) # use Adam optimizer with low learning rate (lr)"
   ]
  },
  {
   "cell_type": "markdown",
   "id": "b0b8ea7b-aa03-4775-ae13-abf8040ecd41",
   "metadata": {},
   "source": [
    "## Self-supervised training using SimCLR\n",
    "Now, we are ready to train the model:"
   ]
  },
  {
   "cell_type": "code",
   "execution_count": null,
   "id": "6de02f54-3c5f-4ca3-8855-484e331a2f10",
   "metadata": {},
   "outputs": [
    {
     "name": "stdout",
     "output_type": "stream",
     "text": [
      "Epoch [1/10], NT-Xent Loss: 3.5979\n",
      "Epoch [2/10], NT-Xent Loss: 3.3510\n",
      "Epoch [3/10], NT-Xent Loss: 3.1880\n",
      "Epoch [4/10], NT-Xent Loss: 3.1449\n",
      "Epoch [5/10], NT-Xent Loss: 3.1210\n",
      "Epoch [6/10], NT-Xent Loss: 3.1035\n",
      "Epoch [7/10], NT-Xent Loss: 3.0884\n"
     ]
    }
   ],
   "source": [
    "epochs = 10\n",
    "temperature = 0.5\n",
    "\n",
    "for epoch in range(epochs):\n",
    "    model.train()\n",
    "    total_loss = 0.0\n",
    "    for (x1, x2, _) in train_loader: # feed in the pairs of images; ignore the labels\n",
    "        x1, x2 = x1.to(device), x2.to(device) # send to device\n",
    "        optimizer.zero_grad() # initialise optimizer\n",
    "\n",
    "        z1 = model(x1)   # projection of first representation; shape: [batch, 128]\n",
    "        z2 = model(x2)   # projection of second representation; shape: [batch, 128]\n",
    "\n",
    "        # normalize the projections for cosine similarity\n",
    "        z1 = nn.functional.normalize(z1, dim=1)\n",
    "        z2 = nn.functional.normalize(z2, dim=1)\n",
    "        \n",
    "        # concatenate projections along batch dimension\n",
    "        z = torch.cat([z1, z2], dim=0)  # shape: [2*batch, 128]\n",
    "        N = z1.size(0) # original batch size\n",
    "\n",
    "        # compute cosine similarity matrix (2N x 2N)\n",
    "        sim_matrix = torch.matmul(z, z.T)  # dot products between all z vectors\n",
    "        \n",
    "        # create labels for positive pairs\n",
    "        pos_index = list(range(N, 2*N)) + list(range(0, N))\n",
    "        pos_index = torch.tensor(pos_index).to(device)\n",
    "        \n",
    "        # compute exponential of similarity divided by temperature\n",
    "        sim_matrix /= temperature\n",
    "        exp_sim = torch.exp(sim_matrix)\n",
    "\n",
    "        # compute loss for each image\n",
    "        # TRY USING: sklearn.metrics.pairwise.cosine_similarity(X, Y=None, dense_output=True) ???\n",
    "        mask = ~torch.eye(2*N, device=device).bool()  # mask to exclude self-similarity\n",
    "        exp_sim_masked = exp_sim * mask               # zero out self-sim terms\n",
    "        # Numerator for all 2N anchors:\n",
    "        numerators = exp_sim[torch.arange(2*N, device=device), pos_index]\n",
    "        # Denominator for all anchors (sum over j != i):\n",
    "        denominators = exp_sim_masked.sum(dim=1)\n",
    "        # Compute loss for all 2N augmented images\n",
    "        losses = -torch.log(numerators / denominators)\n",
    "        loss = losses.mean()\n",
    "\n",
    "        loss.backward()\n",
    "        optimizer.step()\n",
    "        total_loss += loss.item()\n",
    "    avg_loss = total_loss / len(train_loader)\n",
    "    print(f\"Epoch [{epoch+1}/{epochs}], NT-Xent Loss: {avg_loss:.4f}\")\n"
   ]
  },
  {
   "cell_type": "code",
   "execution_count": 156,
   "id": "ad046d3e-eded-4b05-9b59-77011ff9b37e",
   "metadata": {},
   "outputs": [],
   "source": [
    "from sklearn.manifold import TSNE\n",
    "import numpy as np\n",
    "\n",
    "# Switch model to evaluation mode\n",
    "model.eval()\n",
    "\n",
    "# Get all image features and labels\n",
    "all_features = []\n",
    "all_labels = []\n",
    "with torch.no_grad():\n",
    "    for (x1, x2, label) in x_simclr:  # iterate through each original image (ignore x2 here, we just need one view per image)\n",
    "        img = x1.unsqueeze(0).to(device)    # take one augmented view (or we could disable augmentation and take original image)\n",
    "        h = model.encoder(img)             # get 512-d feature from encoder\n",
    "        h = h.view(h.size(0), -1).cpu().numpy()\n",
    "        all_features.append(h)\n",
    "        all_labels.append(label)\n",
    "all_features = np.vstack(all_features)      # shape [num_images, 512]\n",
    "all_labels = np.array(all_labels)\n",
    "\n",
    "# Use t-SNE to reduce to 2 dimensions\n",
    "tsne = TSNE(n_components=2, init='pca', perplexity=30, random_state=42)\n",
    "features_2d = tsne.fit_transform(all_features)  # shape [num_images, 2]"
   ]
  },
  {
   "cell_type": "code",
   "execution_count": 158,
   "id": "d74eac33-4172-4a25-a515-b81c87a2e2ab",
   "metadata": {},
   "outputs": [
    {
     "data": {
      "image/png": "[encoded data removed]",
      "text/plain": [
       "<Figure size 600x500 with 1 Axes>"
      ]
     },
     "metadata": {},
     "output_type": "display_data"
    }
   ],
   "source": [
    "# Plot the 2D features with matplotlib\n",
    "import matplotlib.pyplot as plt\n",
    "plt.figure(figsize=(6,5))\n",
    "# We assume dataset.class_to_idx gives mapping like {'rabbits':0, 'hamsters':1, 'chinchillas':2}\n",
    "classes = x_raw.classes  # list of class names in order\n",
    "for class_idx, class_name in enumerate(classes):\n",
    "    pts = features_2d[all_labels == class_idx]\n",
    "    plt.scatter(pts[:,0], pts[:,1], label=class_name, alpha=0.7)\n",
    "plt.legend()\n",
    "plt.title(\"2D t-SNE of Learned Feature Space\")\n",
    "plt.xlabel(\"t-SNE Dimension 1\")\n",
    "plt.ylabel(\"t-SNE Dimension 2\")\n",
    "plt.tight_layout()\n",
    "plt.savefig(\"feature_space_clusters.png\")\n",
    "plt.show()"
   ]
  },
  {
   "cell_type": "code",
   "execution_count": 170,
   "id": "f006bfe5-90d4-40b8-9152-b4e363046167",
   "metadata": {},
   "outputs": [],
   "source": [
    "img = x_simclr[0][0]\n",
    "\n",
    "img_tensor = img.unsqueeze(0)  # Shape: [1, C, H, W]\n",
    "\n",
    "with torch.no_grad():\n",
    "    img_tensor = img_tensor.to(\"cpu\")  # or \"cpu\" depending on your setup\n",
    "    model = model.to(\"cpu\")\n",
    "    output = model(img_tensor)"
   ]
  },
  {
   "cell_type": "code",
   "execution_count": null,
   "id": "44e54d5c-ea91-41df-aad0-6a01e62e9cfc",
   "metadata": {},
   "outputs": [],
   "source": []
  },
  {
   "cell_type": "code",
   "execution_count": 173,
   "id": "f6c88f41-6fa0-434d-991b-bf739aaa28be",
   "metadata": {},
   "outputs": [
    {
     "data": {
      "text/plain": [
       "torch.Size([1, 128])"
      ]
     },
     "execution_count": 173,
     "metadata": {},
     "output_type": "execute_result"
    }
   ],
   "source": [
    "output.shape"
   ]
  },
  {
   "cell_type": "code",
   "execution_count": 172,
   "id": "05fe557c-9370-4248-9c74-4b1dca82f552",
   "metadata": {},
   "outputs": [
    {
     "name": "stdout",
     "output_type": "stream",
     "text": [
      "Predicted class: 99\n"
     ]
    }
   ],
   "source": [
    "predicted_class = torch.argmax(output, dim=1).item()\n",
    "print(f\"Predicted class: {predicted_class}\")"
   ]
  },
  {
   "cell_type": "code",
   "execution_count": null,
   "id": "229e8163-631b-4848-a76e-5f6e8b76e13b",
   "metadata": {},
   "outputs": [
    {
     "ename": "ValueError",
     "evalue": "expected 4D input (got 3D input)",
     "output_type": "error",
     "traceback": [
      "\u001b[1;31m---------------------------------------------------------------------------\u001b[0m",
      "\u001b[1;31mValueError\u001b[0m                                Traceback (most recent call last)",
      "Cell \u001b[1;32mIn[162], line 1\u001b[0m\n\u001b[1;32m----> 1\u001b[0m \u001b[43mmodel\u001b[49m\u001b[43m(\u001b[49m\u001b[43mx_simclr\u001b[49m\u001b[43m[\u001b[49m\u001b[38;5;241;43m0\u001b[39;49m\u001b[43m]\u001b[49m\u001b[43m[\u001b[49m\u001b[38;5;241;43m0\u001b[39;49m\u001b[43m]\u001b[49m\u001b[43m)\u001b[49m\n",
      "File \u001b[1;32m~\\miniconda3\\envs\\codechallenge\\lib\\site-packages\\torch\\nn\\modules\\module.py:1736\u001b[0m, in \u001b[0;36mModule._wrapped_call_impl\u001b[1;34m(self, *args, **kwargs)\u001b[0m\n\u001b[0;32m   1734\u001b[0m     \u001b[38;5;28;01mreturn\u001b[39;00m \u001b[38;5;28mself\u001b[39m\u001b[38;5;241m.\u001b[39m_compiled_call_impl(\u001b[38;5;241m*\u001b[39margs, \u001b[38;5;241m*\u001b[39m\u001b[38;5;241m*\u001b[39mkwargs)  \u001b[38;5;66;03m# type: ignore[misc]\u001b[39;00m\n\u001b[0;32m   1735\u001b[0m \u001b[38;5;28;01melse\u001b[39;00m:\n\u001b[1;32m-> 1736\u001b[0m     \u001b[38;5;28;01mreturn\u001b[39;00m \u001b[38;5;28mself\u001b[39m\u001b[38;5;241m.\u001b[39m_call_impl(\u001b[38;5;241m*\u001b[39margs, \u001b[38;5;241m*\u001b[39m\u001b[38;5;241m*\u001b[39mkwargs)\n",
      "File \u001b[1;32m~\\miniconda3\\envs\\codechallenge\\lib\\site-packages\\torch\\nn\\modules\\module.py:1747\u001b[0m, in \u001b[0;36mModule._call_impl\u001b[1;34m(self, *args, **kwargs)\u001b[0m\n\u001b[0;32m   1742\u001b[0m \u001b[38;5;66;03m# If we don't have any hooks, we want to skip the rest of the logic in\u001b[39;00m\n\u001b[0;32m   1743\u001b[0m \u001b[38;5;66;03m# this function, and just call forward.\u001b[39;00m\n\u001b[0;32m   1744\u001b[0m \u001b[38;5;28;01mif\u001b[39;00m \u001b[38;5;129;01mnot\u001b[39;00m (\u001b[38;5;28mself\u001b[39m\u001b[38;5;241m.\u001b[39m_backward_hooks \u001b[38;5;129;01mor\u001b[39;00m \u001b[38;5;28mself\u001b[39m\u001b[38;5;241m.\u001b[39m_backward_pre_hooks \u001b[38;5;129;01mor\u001b[39;00m \u001b[38;5;28mself\u001b[39m\u001b[38;5;241m.\u001b[39m_forward_hooks \u001b[38;5;129;01mor\u001b[39;00m \u001b[38;5;28mself\u001b[39m\u001b[38;5;241m.\u001b[39m_forward_pre_hooks\n\u001b[0;32m   1745\u001b[0m         \u001b[38;5;129;01mor\u001b[39;00m _global_backward_pre_hooks \u001b[38;5;129;01mor\u001b[39;00m _global_backward_hooks\n\u001b[0;32m   1746\u001b[0m         \u001b[38;5;129;01mor\u001b[39;00m _global_forward_hooks \u001b[38;5;129;01mor\u001b[39;00m _global_forward_pre_hooks):\n\u001b[1;32m-> 1747\u001b[0m     \u001b[38;5;28;01mreturn\u001b[39;00m forward_call(\u001b[38;5;241m*\u001b[39margs, \u001b[38;5;241m*\u001b[39m\u001b[38;5;241m*\u001b[39mkwargs)\n\u001b[0;32m   1749\u001b[0m result \u001b[38;5;241m=\u001b[39m \u001b[38;5;28;01mNone\u001b[39;00m\n\u001b[0;32m   1750\u001b[0m called_always_called_hooks \u001b[38;5;241m=\u001b[39m \u001b[38;5;28mset\u001b[39m()\n",
      "Cell \u001b[1;32mIn[132], line 7\u001b[0m, in \u001b[0;36mCustomModel.forward\u001b[1;34m(self, x)\u001b[0m\n\u001b[0;32m      6\u001b[0m \u001b[38;5;28;01mdef\u001b[39;00m\u001b[38;5;250m \u001b[39m\u001b[38;5;21mforward\u001b[39m(\u001b[38;5;28mself\u001b[39m, x):\n\u001b[1;32m----> 7\u001b[0m     h \u001b[38;5;241m=\u001b[39m \u001b[38;5;28;43mself\u001b[39;49m\u001b[38;5;241;43m.\u001b[39;49m\u001b[43mencoder\u001b[49m\u001b[43m(\u001b[49m\u001b[43mx\u001b[49m\u001b[43m)\u001b[49m           \u001b[38;5;66;03m# representation of x generated by f_trunc; shape: [batch, 512, 1, 1] for ResNet18\u001b[39;00m\n\u001b[0;32m      8\u001b[0m     h \u001b[38;5;241m=\u001b[39m h\u001b[38;5;241m.\u001b[39mview(h\u001b[38;5;241m.\u001b[39msize(\u001b[38;5;241m0\u001b[39m), \u001b[38;5;241m-\u001b[39m\u001b[38;5;241m1\u001b[39m)     \u001b[38;5;66;03m# flatten to shape: [batch, 512]\u001b[39;00m\n\u001b[0;32m      9\u001b[0m     z \u001b[38;5;241m=\u001b[39m \u001b[38;5;28mself\u001b[39m\u001b[38;5;241m.\u001b[39mprojection_head(h)         \u001b[38;5;66;03m# apply projection head, to project to 128-dim; z will be used in the constrative loss calculation\u001b[39;00m\n",
      "File \u001b[1;32m~\\miniconda3\\envs\\codechallenge\\lib\\site-packages\\torch\\nn\\modules\\module.py:1736\u001b[0m, in \u001b[0;36mModule._wrapped_call_impl\u001b[1;34m(self, *args, **kwargs)\u001b[0m\n\u001b[0;32m   1734\u001b[0m     \u001b[38;5;28;01mreturn\u001b[39;00m \u001b[38;5;28mself\u001b[39m\u001b[38;5;241m.\u001b[39m_compiled_call_impl(\u001b[38;5;241m*\u001b[39margs, \u001b[38;5;241m*\u001b[39m\u001b[38;5;241m*\u001b[39mkwargs)  \u001b[38;5;66;03m# type: ignore[misc]\u001b[39;00m\n\u001b[0;32m   1735\u001b[0m \u001b[38;5;28;01melse\u001b[39;00m:\n\u001b[1;32m-> 1736\u001b[0m     \u001b[38;5;28;01mreturn\u001b[39;00m \u001b[38;5;28mself\u001b[39m\u001b[38;5;241m.\u001b[39m_call_impl(\u001b[38;5;241m*\u001b[39margs, \u001b[38;5;241m*\u001b[39m\u001b[38;5;241m*\u001b[39mkwargs)\n",
      "File \u001b[1;32m~\\miniconda3\\envs\\codechallenge\\lib\\site-packages\\torch\\nn\\modules\\module.py:1747\u001b[0m, in \u001b[0;36mModule._call_impl\u001b[1;34m(self, *args, **kwargs)\u001b[0m\n\u001b[0;32m   1742\u001b[0m \u001b[38;5;66;03m# If we don't have any hooks, we want to skip the rest of the logic in\u001b[39;00m\n\u001b[0;32m   1743\u001b[0m \u001b[38;5;66;03m# this function, and just call forward.\u001b[39;00m\n\u001b[0;32m   1744\u001b[0m \u001b[38;5;28;01mif\u001b[39;00m \u001b[38;5;129;01mnot\u001b[39;00m (\u001b[38;5;28mself\u001b[39m\u001b[38;5;241m.\u001b[39m_backward_hooks \u001b[38;5;129;01mor\u001b[39;00m \u001b[38;5;28mself\u001b[39m\u001b[38;5;241m.\u001b[39m_backward_pre_hooks \u001b[38;5;129;01mor\u001b[39;00m \u001b[38;5;28mself\u001b[39m\u001b[38;5;241m.\u001b[39m_forward_hooks \u001b[38;5;129;01mor\u001b[39;00m \u001b[38;5;28mself\u001b[39m\u001b[38;5;241m.\u001b[39m_forward_pre_hooks\n\u001b[0;32m   1745\u001b[0m         \u001b[38;5;129;01mor\u001b[39;00m _global_backward_pre_hooks \u001b[38;5;129;01mor\u001b[39;00m _global_backward_hooks\n\u001b[0;32m   1746\u001b[0m         \u001b[38;5;129;01mor\u001b[39;00m _global_forward_hooks \u001b[38;5;129;01mor\u001b[39;00m _global_forward_pre_hooks):\n\u001b[1;32m-> 1747\u001b[0m     \u001b[38;5;28;01mreturn\u001b[39;00m forward_call(\u001b[38;5;241m*\u001b[39margs, \u001b[38;5;241m*\u001b[39m\u001b[38;5;241m*\u001b[39mkwargs)\n\u001b[0;32m   1749\u001b[0m result \u001b[38;5;241m=\u001b[39m \u001b[38;5;28;01mNone\u001b[39;00m\n\u001b[0;32m   1750\u001b[0m called_always_called_hooks \u001b[38;5;241m=\u001b[39m \u001b[38;5;28mset\u001b[39m()\n",
      "File \u001b[1;32m~\\miniconda3\\envs\\codechallenge\\lib\\site-packages\\torch\\nn\\modules\\container.py:250\u001b[0m, in \u001b[0;36mSequential.forward\u001b[1;34m(self, input)\u001b[0m\n\u001b[0;32m    248\u001b[0m \u001b[38;5;28;01mdef\u001b[39;00m\u001b[38;5;250m \u001b[39m\u001b[38;5;21mforward\u001b[39m(\u001b[38;5;28mself\u001b[39m, \u001b[38;5;28minput\u001b[39m):\n\u001b[0;32m    249\u001b[0m     \u001b[38;5;28;01mfor\u001b[39;00m module \u001b[38;5;129;01min\u001b[39;00m \u001b[38;5;28mself\u001b[39m:\n\u001b[1;32m--> 250\u001b[0m         \u001b[38;5;28minput\u001b[39m \u001b[38;5;241m=\u001b[39m \u001b[43mmodule\u001b[49m\u001b[43m(\u001b[49m\u001b[38;5;28;43minput\u001b[39;49m\u001b[43m)\u001b[49m\n\u001b[0;32m    251\u001b[0m     \u001b[38;5;28;01mreturn\u001b[39;00m \u001b[38;5;28minput\u001b[39m\n",
      "File \u001b[1;32m~\\miniconda3\\envs\\codechallenge\\lib\\site-packages\\torch\\nn\\modules\\module.py:1736\u001b[0m, in \u001b[0;36mModule._wrapped_call_impl\u001b[1;34m(self, *args, **kwargs)\u001b[0m\n\u001b[0;32m   1734\u001b[0m     \u001b[38;5;28;01mreturn\u001b[39;00m \u001b[38;5;28mself\u001b[39m\u001b[38;5;241m.\u001b[39m_compiled_call_impl(\u001b[38;5;241m*\u001b[39margs, \u001b[38;5;241m*\u001b[39m\u001b[38;5;241m*\u001b[39mkwargs)  \u001b[38;5;66;03m# type: ignore[misc]\u001b[39;00m\n\u001b[0;32m   1735\u001b[0m \u001b[38;5;28;01melse\u001b[39;00m:\n\u001b[1;32m-> 1736\u001b[0m     \u001b[38;5;28;01mreturn\u001b[39;00m \u001b[38;5;28mself\u001b[39m\u001b[38;5;241m.\u001b[39m_call_impl(\u001b[38;5;241m*\u001b[39margs, \u001b[38;5;241m*\u001b[39m\u001b[38;5;241m*\u001b[39mkwargs)\n",
      "File \u001b[1;32m~\\miniconda3\\envs\\codechallenge\\lib\\site-packages\\torch\\nn\\modules\\module.py:1747\u001b[0m, in \u001b[0;36mModule._call_impl\u001b[1;34m(self, *args, **kwargs)\u001b[0m\n\u001b[0;32m   1742\u001b[0m \u001b[38;5;66;03m# If we don't have any hooks, we want to skip the rest of the logic in\u001b[39;00m\n\u001b[0;32m   1743\u001b[0m \u001b[38;5;66;03m# this function, and just call forward.\u001b[39;00m\n\u001b[0;32m   1744\u001b[0m \u001b[38;5;28;01mif\u001b[39;00m \u001b[38;5;129;01mnot\u001b[39;00m (\u001b[38;5;28mself\u001b[39m\u001b[38;5;241m.\u001b[39m_backward_hooks \u001b[38;5;129;01mor\u001b[39;00m \u001b[38;5;28mself\u001b[39m\u001b[38;5;241m.\u001b[39m_backward_pre_hooks \u001b[38;5;129;01mor\u001b[39;00m \u001b[38;5;28mself\u001b[39m\u001b[38;5;241m.\u001b[39m_forward_hooks \u001b[38;5;129;01mor\u001b[39;00m \u001b[38;5;28mself\u001b[39m\u001b[38;5;241m.\u001b[39m_forward_pre_hooks\n\u001b[0;32m   1745\u001b[0m         \u001b[38;5;129;01mor\u001b[39;00m _global_backward_pre_hooks \u001b[38;5;129;01mor\u001b[39;00m _global_backward_hooks\n\u001b[0;32m   1746\u001b[0m         \u001b[38;5;129;01mor\u001b[39;00m _global_forward_hooks \u001b[38;5;129;01mor\u001b[39;00m _global_forward_pre_hooks):\n\u001b[1;32m-> 1747\u001b[0m     \u001b[38;5;28;01mreturn\u001b[39;00m forward_call(\u001b[38;5;241m*\u001b[39margs, \u001b[38;5;241m*\u001b[39m\u001b[38;5;241m*\u001b[39mkwargs)\n\u001b[0;32m   1749\u001b[0m result \u001b[38;5;241m=\u001b[39m \u001b[38;5;28;01mNone\u001b[39;00m\n\u001b[0;32m   1750\u001b[0m called_always_called_hooks \u001b[38;5;241m=\u001b[39m \u001b[38;5;28mset\u001b[39m()\n",
      "File \u001b[1;32m~\\miniconda3\\envs\\codechallenge\\lib\\site-packages\\torch\\nn\\modules\\batchnorm.py:160\u001b[0m, in \u001b[0;36m_BatchNorm.forward\u001b[1;34m(self, input)\u001b[0m\n\u001b[0;32m    159\u001b[0m \u001b[38;5;28;01mdef\u001b[39;00m\u001b[38;5;250m \u001b[39m\u001b[38;5;21mforward\u001b[39m(\u001b[38;5;28mself\u001b[39m, \u001b[38;5;28minput\u001b[39m: Tensor) \u001b[38;5;241m-\u001b[39m\u001b[38;5;241m>\u001b[39m Tensor:\n\u001b[1;32m--> 160\u001b[0m     \u001b[38;5;28;43mself\u001b[39;49m\u001b[38;5;241;43m.\u001b[39;49m\u001b[43m_check_input_dim\u001b[49m\u001b[43m(\u001b[49m\u001b[38;5;28;43minput\u001b[39;49m\u001b[43m)\u001b[49m\n\u001b[0;32m    162\u001b[0m     \u001b[38;5;66;03m# exponential_average_factor is set to self.momentum\u001b[39;00m\n\u001b[0;32m    163\u001b[0m     \u001b[38;5;66;03m# (when it is available) only so that it gets updated\u001b[39;00m\n\u001b[0;32m    164\u001b[0m     \u001b[38;5;66;03m# in ONNX graph when this node is exported to ONNX.\u001b[39;00m\n\u001b[0;32m    165\u001b[0m     \u001b[38;5;28;01mif\u001b[39;00m \u001b[38;5;28mself\u001b[39m\u001b[38;5;241m.\u001b[39mmomentum \u001b[38;5;129;01mis\u001b[39;00m \u001b[38;5;28;01mNone\u001b[39;00m:\n",
      "File \u001b[1;32m~\\miniconda3\\envs\\codechallenge\\lib\\site-packages\\torch\\nn\\modules\\batchnorm.py:452\u001b[0m, in \u001b[0;36mBatchNorm2d._check_input_dim\u001b[1;34m(self, input)\u001b[0m\n\u001b[0;32m    450\u001b[0m \u001b[38;5;28;01mdef\u001b[39;00m\u001b[38;5;250m \u001b[39m\u001b[38;5;21m_check_input_dim\u001b[39m(\u001b[38;5;28mself\u001b[39m, \u001b[38;5;28minput\u001b[39m):\n\u001b[0;32m    451\u001b[0m     \u001b[38;5;28;01mif\u001b[39;00m \u001b[38;5;28minput\u001b[39m\u001b[38;5;241m.\u001b[39mdim() \u001b[38;5;241m!=\u001b[39m \u001b[38;5;241m4\u001b[39m:\n\u001b[1;32m--> 452\u001b[0m         \u001b[38;5;28;01mraise\u001b[39;00m \u001b[38;5;167;01mValueError\u001b[39;00m(\u001b[38;5;124mf\u001b[39m\u001b[38;5;124m\"\u001b[39m\u001b[38;5;124mexpected 4D input (got \u001b[39m\u001b[38;5;132;01m{\u001b[39;00m\u001b[38;5;28minput\u001b[39m\u001b[38;5;241m.\u001b[39mdim()\u001b[38;5;132;01m}\u001b[39;00m\u001b[38;5;124mD input)\u001b[39m\u001b[38;5;124m\"\u001b[39m)\n",
      "\u001b[1;31mValueError\u001b[0m: expected 4D input (got 3D input)"
     ]
    }
   ],
   "source": [
    "for (x1, x2, _) in train_loader: # feed in the pairs of images; ignore the labels\n",
    "    x1, x2 = x1.to(device), x2.to(device) # send to device\n",
    "    optimizer.zero_grad() # initialise optimizer\n",
    "\n",
    "    z1 = model(x1)   # projection of first representation; shape: [batch, 128]\n",
    "    z2 = model(x2)   # projection of second representation; shape: [batch, 128]"
   ]
  },
  {
   "cell_type": "markdown",
   "id": "7f2480d2-6e64-432d-ac37-3cc8727cf83b",
   "metadata": {},
   "source": [
    "## Fine-tuning the model\n",
    "Having pre-trained the model using SimCLR, we now fine-tune the model using a set of labelled data..."
   ]
  },
  {
   "cell_type": "code",
   "execution_count": null,
   "id": "3bc6d999-1877-44eb-9801-54cc305e433b",
   "metadata": {},
   "outputs": [],
   "source": []
  },
  {
   "cell_type": "markdown",
   "id": "28f26673-9014-4109-8443-56b8763dcc97",
   "metadata": {},
   "source": [
    "## Evaluation\n",
    "Finally, we evaluate the fine-tuned model on the hold-out set and compare its performance to the model without fine-tuning..."
   ]
  },
  {
   "cell_type": "code",
   "execution_count": null,
   "id": "87e62c25-8af3-477e-b636-93fd0115eacb",
   "metadata": {},
   "outputs": [],
   "source": []
  }
 ],
 "metadata": {
  "kernelspec": {
   "display_name": "Python 3 (ipykernel)",
   "language": "python",
   "name": "python3"
  },
  "language_info": {
   "codemirror_mode": {
    "name": "ipython",
    "version": 3
   },
   "file_extension": ".py",
   "mimetype": "text/x-python",
   "name": "python",
   "nbconvert_exporter": "python",
   "pygments_lexer": "ipython3",
   "version": "3.10.16"
  }
 },
 "nbformat": 4,
 "nbformat_minor": 5
}
